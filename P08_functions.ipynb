{
  "cells": [
    {
      "cell_type": "markdown",
      "metadata": {
        "id": "view-in-github",
        "colab_type": "text"
      },
      "source": [
        "<a href=\"https://colab.research.google.com/github/Daisha1983/master_itm/blob/main/P08_functions.ipynb\" target=\"_parent\"><img src=\"https://colab.research.google.com/assets/colab-badge.svg\" alt=\"Open In Colab\"/></a>"
      ]
    },
    {
      "cell_type": "markdown",
      "metadata": {
        "id": "Wv82ZUKE2rq9"
      },
      "source": [
        "### Working with functions"
      ]
    },
    {
      "cell_type": "markdown",
      "metadata": {
        "id": "j5jrhgMK2rq_"
      },
      "source": [
        "__Function definitions__"
      ]
    },
    {
      "cell_type": "code",
      "execution_count": null,
      "metadata": {
        "id": "okbWAsDN2rq_"
      },
      "outputs": [],
      "source": [
        "def check_even(a):\n",
        "    if a % 2 == 0:\n",
        "        even = True\n",
        "    else:\n",
        "        even = False # odd\n",
        "    return even"
      ]
    },
    {
      "cell_type": "code",
      "execution_count": null,
      "metadata": {
        "scrolled": true,
        "colab": {
          "base_uri": "https://localhost:8080/"
        },
        "id": "4fHv4TzW2rrA",
        "outputId": "5a9101c9-ea19-4570-9bfa-8382aa48bba2"
      },
      "outputs": [
        {
          "output_type": "execute_result",
          "data": {
            "text/plain": [
              "True"
            ]
          },
          "metadata": {},
          "execution_count": 9
        }
      ],
      "source": [
        "res = check_even(4)\n",
        "res"
      ]
    },
    {
      "cell_type": "code",
      "execution_count": null,
      "metadata": {
        "id": "tyBYrcB22rrB"
      },
      "outputs": [],
      "source": [
        "def check_even2(a):\n",
        "    if (type(a) is int) and (a % 2 == 0):\n",
        "        even = True\n",
        "    else:\n",
        "        even = False # odd\n",
        "    return even"
      ]
    },
    {
      "cell_type": "code",
      "execution_count": null,
      "metadata": {
        "colab": {
          "base_uri": "https://localhost:8080/"
        },
        "id": "dHaxYuUA2rrB",
        "outputId": "9120fb21-9208-499a-d1b0-000013f8bcc6"
      },
      "outputs": [
        {
          "output_type": "execute_result",
          "data": {
            "text/plain": [
              "True"
            ]
          },
          "metadata": {},
          "execution_count": 11
        }
      ],
      "source": [
        "check_even2(4)"
      ]
    },
    {
      "cell_type": "code",
      "execution_count": null,
      "metadata": {
        "id": "PZkV3Z742rrB"
      },
      "outputs": [],
      "source": [
        "def string_compare(str1, str2):\n",
        "    \"\"\"compares 2 strings passed as arguments.\n",
        "    Returns True or False depending on whether\n",
        "    they are the same or different.\"\"\"\n",
        "    if type(str1) is str and type(str2) is str:\n",
        "        print(\"Correct strings\")\n",
        "        if str1.upper().strip() == str2.upper().strip():\n",
        "            print(\"Equals\")\n",
        "            return True\n",
        "        else:\n",
        "            print(\"Diferrent\")\n",
        "            return False\n",
        "    else:\n",
        "        print(\"Variables must be of type string\")"
      ]
    },
    {
      "cell_type": "markdown",
      "metadata": {
        "id": "TUN0iRmz2rrC"
      },
      "source": [
        "__Llamada__ a la función"
      ]
    },
    {
      "cell_type": "code",
      "execution_count": null,
      "metadata": {
        "colab": {
          "base_uri": "https://localhost:8080/"
        },
        "id": "tO5sK2DW2rrC",
        "outputId": "ebd94b22-d4c5-458e-bb2f-eba3814603b6"
      },
      "outputs": [
        {
          "output_type": "stream",
          "name": "stdout",
          "text": [
            "Correct strings\n",
            "Equals\n"
          ]
        },
        {
          "output_type": "execute_result",
          "data": {
            "text/plain": [
              "True"
            ]
          },
          "metadata": {},
          "execution_count": 22
        }
      ],
      "source": [
        "c1 = \"Madrid \"\n",
        "c2 = \"   MaDRID   \"\n",
        "res = string_compare(c2, c1)\n",
        "res"
      ]
    },
    {
      "cell_type": "code",
      "execution_count": null,
      "metadata": {
        "colab": {
          "base_uri": "https://localhost:8080/"
        },
        "id": "ZzSLp6xo2rrC",
        "outputId": "d435047f-7504-4127-9075-71d1723cd8ae"
      },
      "outputs": [
        {
          "output_type": "stream",
          "name": "stdout",
          "text": [
            "Correct strings\n",
            "Equals\n"
          ]
        },
        {
          "output_type": "execute_result",
          "data": {
            "text/plain": [
              "True"
            ]
          },
          "metadata": {},
          "execution_count": 24
        }
      ],
      "source": [
        "string_compare(str1=c1, str2=c2)"
      ]
    },
    {
      "cell_type": "code",
      "execution_count": null,
      "metadata": {
        "colab": {
          "base_uri": "https://localhost:8080/",
          "height": 106
        },
        "id": "iRkobpA82rrC",
        "outputId": "2fd9da33-1135-486f-c5dd-236fde6b33bf"
      },
      "outputs": [
        {
          "output_type": "error",
          "ename": "SyntaxError",
          "evalue": "invalid syntax (<ipython-input-25-97d62ad0123a>, line 1)",
          "traceback": [
            "\u001b[0;36m  File \u001b[0;32m\"<ipython-input-25-97d62ad0123a>\"\u001b[0;36m, line \u001b[0;32m1\u001b[0m\n\u001b[0;31m    Function to get the day of the week from a date\u001b[0m\n\u001b[0m             ^\u001b[0m\n\u001b[0;31mSyntaxError\u001b[0m\u001b[0;31m:\u001b[0m invalid syntax\n"
          ]
        }
      ],
      "source": [
        "Function to get the day of the week from a date"
      ]
    },
    {
      "cell_type": "code",
      "execution_count": null,
      "metadata": {
        "id": "aUUpsXNf2rrD"
      },
      "outputs": [],
      "source": [
        "def week_day(v_date):\n",
        "    wd = v_date.weekday()\n",
        "    if wd == 0:\n",
        "        wds = \"Monday\"\n",
        "    elif wd == 1:\n",
        "        wds = \"Tuesday\"\n",
        "    elif wd == 2:\n",
        "        wds = \"Wednesday\"\n",
        "    elif wd == 3:\n",
        "        wds = \"Thursday\"\n",
        "    elif wd == 4:\n",
        "        wds = \"Friday\"\n",
        "    elif wd == 5:\n",
        "        wds = \"Saturday\"\n",
        "    else: wds = \"Sunday\"\n",
        "    return wds #"
      ]
    },
    {
      "cell_type": "code",
      "execution_count": null,
      "metadata": {
        "colab": {
          "base_uri": "https://localhost:8080/",
          "height": 35
        },
        "id": "fFAtMPSb2rrD",
        "outputId": "76e132da-1b38-4a59-b068-b79c0a4539a2"
      },
      "outputs": [
        {
          "output_type": "execute_result",
          "data": {
            "text/plain": [
              "'Tuesday'"
            ],
            "application/vnd.google.colaboratory.intrinsic+json": {
              "type": "string"
            }
          },
          "metadata": {},
          "execution_count": 27
        }
      ],
      "source": [
        "from datetime import date  #para trabajar con fecha\n",
        "d = date.today()\n",
        "#d = date(2024,2,19)\n",
        "week_day(v_date=d)"
      ]
    },
    {
      "cell_type": "markdown",
      "metadata": {
        "id": "TQrksb_Q2rrD"
      },
      "source": [
        "data types in a function"
      ]
    },
    {
      "cell_type": "code",
      "execution_count": null,
      "metadata": {
        "id": "wevzzsH12rrD"
      },
      "outputs": [],
      "source": [
        "def repit_string(varstr: str,repit: int) -> str:\n",
        "    return varstr * repit"
      ]
    },
    {
      "cell_type": "code",
      "execution_count": null,
      "metadata": {
        "id": "DGksaE-g2rrE",
        "outputId": "68e52cd9-4792-4cbc-85c1-a0996ad0325d"
      },
      "outputs": [
        {
          "data": {
            "text/plain": [
              "'hellohellohellohello'"
            ]
          },
          "execution_count": 18,
          "metadata": {},
          "output_type": "execute_result"
        }
      ],
      "source": [
        "repit_string(\"hello\", 4)"
      ]
    },
    {
      "cell_type": "markdown",
      "metadata": {
        "id": "rgnKSbin2rrE"
      },
      "source": [
        "Examples of lambda functions and operators: map, filter"
      ]
    },
    {
      "cell_type": "code",
      "execution_count": null,
      "metadata": {
        "id": "NsA3AQJh2rrE"
      },
      "outputs": [],
      "source": [
        "def suma3(x):\n",
        "    return (x + 3)"
      ]
    },
    {
      "cell_type": "code",
      "execution_count": null,
      "metadata": {
        "id": "pQQB2SPh2rrE",
        "outputId": "0f57d8d4-ddfe-4412-b8b9-b6a3cd1a2ad2"
      },
      "outputs": [
        {
          "data": {
            "text/plain": [
              "5"
            ]
          },
          "execution_count": 20,
          "metadata": {},
          "output_type": "execute_result"
        }
      ],
      "source": [
        "suma3(2)"
      ]
    },
    {
      "cell_type": "code",
      "execution_count": null,
      "metadata": {
        "id": "-LSRHc_G2rrE",
        "outputId": "7d953f01-db15-4b23-bf2d-6cda11c33b4a"
      },
      "outputs": [
        {
          "data": {
            "text/plain": [
              "5"
            ]
          },
          "execution_count": 21,
          "metadata": {},
          "output_type": "execute_result"
        }
      ],
      "source": [
        "(lambda x: x+3)(2)"
      ]
    },
    {
      "cell_type": "code",
      "execution_count": null,
      "metadata": {
        "id": "ZvgKdY1i2rrE"
      },
      "outputs": [],
      "source": [
        "suma3l = lambda x: x+3"
      ]
    },
    {
      "cell_type": "code",
      "execution_count": null,
      "metadata": {
        "id": "H8Gsy8Ba2rrE",
        "outputId": "1748dbd2-b160-49bd-8232-5bbe3b0d2691"
      },
      "outputs": [
        {
          "data": {
            "text/plain": [
              "6"
            ]
          },
          "execution_count": 23,
          "metadata": {},
          "output_type": "execute_result"
        }
      ],
      "source": [
        "suma3l(3)"
      ]
    },
    {
      "cell_type": "markdown",
      "metadata": {
        "id": "g3MVgoVZ2rrE"
      },
      "source": [
        "Ejemplos __map__, __filter__ y __reduce__"
      ]
    },
    {
      "cell_type": "code",
      "execution_count": null,
      "metadata": {
        "id": "SJQYQdcK2rrF",
        "outputId": "9b47b2f9-b864-4880-b8df-a83e19be912d"
      },
      "outputs": [
        {
          "data": {
            "text/plain": [
              "range(0, 10)"
            ]
          },
          "execution_count": 24,
          "metadata": {},
          "output_type": "execute_result"
        }
      ],
      "source": [
        "range(10)"
      ]
    },
    {
      "cell_type": "code",
      "execution_count": null,
      "metadata": {
        "id": "V0ucZbRz2rrF",
        "outputId": "02cac64c-ecd2-43d2-f9a9-ee34a5f355b7"
      },
      "outputs": [
        {
          "data": {
            "text/plain": [
              "[4, 5, 6]"
            ]
          },
          "execution_count": 25,
          "metadata": {},
          "output_type": "execute_result"
        }
      ],
      "source": [
        "lis1 = [1,2,3]\n",
        "list(map(suma3, lis1))"
      ]
    },
    {
      "cell_type": "code",
      "execution_count": null,
      "metadata": {
        "id": "PQtGvvgC2rrF",
        "outputId": "b8062af8-bffc-4c1e-855d-75e63a42fa9b"
      },
      "outputs": [
        {
          "data": {
            "text/plain": [
              "[4, 5, 6]"
            ]
          },
          "execution_count": 26,
          "metadata": {},
          "output_type": "execute_result"
        }
      ],
      "source": [
        "list(map(lambda x: x+3, lis1))"
      ]
    },
    {
      "cell_type": "code",
      "execution_count": null,
      "metadata": {
        "id": "cvcrxBOL2rrF",
        "outputId": "00bd9b2d-f6b3-4b8c-a9ba-f17dbff7df1b"
      },
      "outputs": [
        {
          "data": {
            "text/plain": [
              "[1, 2, 3]"
            ]
          },
          "execution_count": 27,
          "metadata": {},
          "output_type": "execute_result"
        }
      ],
      "source": [
        "lis1"
      ]
    },
    {
      "cell_type": "code",
      "execution_count": null,
      "metadata": {
        "id": "MJpLD1ak2rrF",
        "outputId": "df7aaabb-bfec-4c7f-ed3b-9ae4ce2d8fb7"
      },
      "outputs": [
        {
          "data": {
            "text/plain": [
              "[False, False, True]"
            ]
          },
          "execution_count": 28,
          "metadata": {},
          "output_type": "execute_result"
        }
      ],
      "source": [
        "list(map(lambda x: x > 2, lis1))"
      ]
    },
    {
      "cell_type": "code",
      "execution_count": null,
      "metadata": {
        "id": "T1aNPgu32rrF",
        "outputId": "00b1a240-fcd1-4bc1-ace5-6045dfe5b56f"
      },
      "outputs": [
        {
          "data": {
            "text/plain": [
              "[3]"
            ]
          },
          "execution_count": 29,
          "metadata": {},
          "output_type": "execute_result"
        }
      ],
      "source": [
        "list(filter(lambda x: x > 2, lis1))"
      ]
    },
    {
      "cell_type": "code",
      "execution_count": null,
      "metadata": {
        "id": "-3_BtzG_2rrF",
        "outputId": "2655069b-6b19-4577-90a4-dec93db6f0da"
      },
      "outputs": [
        {
          "data": {
            "text/plain": [
              "[5, 6]"
            ]
          },
          "execution_count": 30,
          "metadata": {},
          "output_type": "execute_result"
        }
      ],
      "source": [
        "list(filter(lambda x: x > 4 ,map(lambda x: x + 3, lis1) ))"
      ]
    },
    {
      "cell_type": "code",
      "execution_count": null,
      "metadata": {
        "id": "F6SjgEDf2rrG"
      },
      "outputs": [],
      "source": [
        "lis1 = list(range(5000000))"
      ]
    },
    {
      "cell_type": "code",
      "execution_count": null,
      "metadata": {
        "id": "Vq7smzF12rrG",
        "outputId": "088cf908-183f-4fb4-aa5e-6b0ae938571e"
      },
      "outputs": [
        {
          "data": {
            "text/plain": [
              "3000000"
            ]
          },
          "execution_count": 31,
          "metadata": {},
          "output_type": "execute_result"
        }
      ],
      "source": [
        "len(lis1)"
      ]
    },
    {
      "cell_type": "code",
      "execution_count": null,
      "metadata": {
        "id": "Fuyq84IR2rrG",
        "outputId": "633643ed-1d5e-4902-a603-79cde2abd829"
      },
      "outputs": [
        {
          "name": "stdout",
          "output_type": "stream",
          "text": [
            "2.08 s ± 39.6 ms per loop (mean ± std. dev. of 7 runs, 1 loop each)\n"
          ]
        }
      ],
      "source": [
        "%%timeit\n",
        "lis2 = list(map(lambda x: 2*x + 3, lis1))\n",
        "lis3 = list(map(lambda x: x - 4, lis2))\n",
        "lis4 = list(filter(lambda x: x % 5 == 0, lis3))"
      ]
    },
    {
      "cell_type": "code",
      "execution_count": null,
      "metadata": {
        "id": "QAeS6oOC2rrG",
        "outputId": "3010b75d-14d6-45e2-fc1d-0aa070a4bb04"
      },
      "outputs": [
        {
          "data": {
            "text/plain": [
              "200000"
            ]
          },
          "execution_count": 21,
          "metadata": {},
          "output_type": "execute_result"
        }
      ],
      "source": [
        "len(lis3)"
      ]
    },
    {
      "cell_type": "code",
      "execution_count": null,
      "metadata": {
        "id": "6ine1btS2rrG",
        "outputId": "78e5e03b-9db4-4cf3-c417-2edae29dd176"
      },
      "outputs": [
        {
          "name": "stdout",
          "output_type": "stream",
          "text": [
            "2.07 s ± 163 ms per loop (mean ± std. dev. of 7 runs, 1 loop each)\n"
          ]
        }
      ],
      "source": [
        "%%timeit\n",
        "lis3 = list(filter(lambda x: x % 5 == 0, map(lambda x: x - 4 ,  map(lambda x: 2*x + 3, lis1) )))"
      ]
    },
    {
      "cell_type": "code",
      "execution_count": null,
      "metadata": {
        "id": "kmk-laDR2rrG",
        "outputId": "0ce10f15-107c-4639-df97-3ba38d73bb21"
      },
      "outputs": [
        {
          "data": {
            "text/plain": [
              "200000"
            ]
          },
          "execution_count": 38,
          "metadata": {},
          "output_type": "execute_result"
        }
      ],
      "source": [
        "len(lis3)"
      ]
    },
    {
      "cell_type": "markdown",
      "metadata": {
        "id": "I2pip51j2rrG"
      },
      "source": [
        "Review and monitor __performance__ using Python's cprofilers"
      ]
    },
    {
      "cell_type": "code",
      "execution_count": null,
      "metadata": {
        "id": "gpUhLfQA2rrH"
      },
      "outputs": [],
      "source": [
        "import cProfile"
      ]
    },
    {
      "cell_type": "code",
      "execution_count": null,
      "metadata": {
        "id": "13rYdom42rrH"
      },
      "outputs": [],
      "source": [
        "profiler = cProfile.Profile()\n",
        "profiler.enable()"
      ]
    },
    {
      "cell_type": "code",
      "execution_count": null,
      "metadata": {
        "id": "tT93AbAM2rrU"
      },
      "outputs": [],
      "source": [
        "lis1 = list(range(100))\n",
        "lis3 = list(filter(lambda x: x % 5 == 0, map(lambda x: x - 4 ,  map(lambda x: 2*x + 3, lis1) )))"
      ]
    },
    {
      "cell_type": "code",
      "execution_count": null,
      "metadata": {
        "id": "Srt0ukeW2rrU"
      },
      "outputs": [],
      "source": [
        "profiler.disable()\n",
        "profiler.dump_stats(\"example.stats\")"
      ]
    },
    {
      "cell_type": "markdown",
      "metadata": {
        "id": "VirEVgQa2rrU"
      },
      "source": [
        "__ncalls__: It represents a number of times that function was called. It can have two numbers separated by a slash in case of recursive calls. The first number, in that case, represents total calls including recursive calls and the second number represents primitive calls excluding recursive calls.  \n",
        "__tottime__: It represents total time spent in that function excluding time spent in sub-functions of that function.  \n",
        "__percall__ : It represents tottime divided by ncalls.  \n",
        "__cumtime__ : It represents total time spent in that function including time-spent in sub-functions of that function.  \n",
        "__percall__ : It represents cumtime divided by ncalls.  \n",
        "__filename:lineno(function)__ : It represents filename, line number in file and function name.  "
      ]
    },
    {
      "cell_type": "code",
      "execution_count": null,
      "metadata": {
        "id": "UM-MtNhJ2rrU"
      },
      "outputs": [],
      "source": [
        "import pstats\n",
        "stats = pstats.Stats(\"example.stats\")\n",
        "stats.print_stats()"
      ]
    },
    {
      "cell_type": "markdown",
      "metadata": {
        "id": "3ITUwuti2rrU"
      },
      "source": [
        "Examples __reduces__"
      ]
    },
    {
      "cell_type": "code",
      "execution_count": null,
      "metadata": {
        "id": "J2w2hEJA2rrV"
      },
      "outputs": [],
      "source": [
        "from functools import reduce"
      ]
    },
    {
      "cell_type": "markdown",
      "metadata": {
        "id": "yKaYBGeu2rrV"
      },
      "source": [
        "Add up all the elements"
      ]
    },
    {
      "cell_type": "code",
      "execution_count": null,
      "metadata": {
        "id": "J8bTtVOe2rrV",
        "outputId": "f443e3c3-ff41-4792-b4dc-66a8baa0e337"
      },
      "outputs": [
        {
          "data": {
            "text/plain": [
              "13"
            ]
          },
          "execution_count": 5,
          "metadata": {},
          "output_type": "execute_result"
        }
      ],
      "source": [
        "lis1 = [2, 4, 7]\n",
        "res = reduce((lambda x, y: x + y), lis1)\n",
        "res"
      ]
    },
    {
      "cell_type": "markdown",
      "metadata": {
        "id": "-s2k7FXk2rrV"
      },
      "source": [
        "Multiply all elements"
      ]
    },
    {
      "cell_type": "code",
      "execution_count": null,
      "metadata": {
        "id": "sB7bGiwN2rrV",
        "outputId": "45f6777e-35a3-46ec-f3cb-0a1f65dc8ef2"
      },
      "outputs": [
        {
          "data": {
            "text/plain": [
              "56"
            ]
          },
          "execution_count": 7,
          "metadata": {},
          "output_type": "execute_result"
        }
      ],
      "source": [
        "res = reduce(lambda x, y: x * y, lis1)\n",
        "res"
      ]
    },
    {
      "cell_type": "markdown",
      "metadata": {
        "id": "mKF0C-nX2rrV"
      },
      "source": [
        "Getting the maximun"
      ]
    },
    {
      "cell_type": "code",
      "execution_count": null,
      "metadata": {
        "id": "xN42y0ET2rrV"
      },
      "outputs": [],
      "source": [
        "lis1 = [5,2,7,4, 9]"
      ]
    },
    {
      "cell_type": "code",
      "execution_count": null,
      "metadata": {
        "id": "ApBCBFLw2rrV",
        "outputId": "f1629a19-24c0-415e-e36a-7ed97b4a241b"
      },
      "outputs": [
        {
          "data": {
            "text/plain": [
              "9"
            ]
          },
          "execution_count": 12,
          "metadata": {},
          "output_type": "execute_result"
        }
      ],
      "source": [
        "res = reduce((lambda x, y:  x if (x >= y) else y), lis1)\n",
        "res"
      ]
    },
    {
      "cell_type": "markdown",
      "metadata": {
        "id": "oxaWSYZY2rrV"
      },
      "source": [
        "Add only even numbers"
      ]
    },
    {
      "cell_type": "code",
      "execution_count": null,
      "metadata": {
        "id": "DkdnC9Ir2rrV"
      },
      "outputs": [],
      "source": [
        "lis1 = [1,2,3,4,5,7,8]"
      ]
    },
    {
      "cell_type": "code",
      "execution_count": null,
      "metadata": {
        "id": "JotIIqgy2rrW",
        "outputId": "11ea8829-b776-4d51-e820-98bcdbc11933"
      },
      "outputs": [
        {
          "data": {
            "text/plain": [
              "14"
            ]
          },
          "execution_count": 22,
          "metadata": {},
          "output_type": "execute_result"
        }
      ],
      "source": [
        "lis1 = [0] + lis1\n",
        "res = reduce(lambda x, y: x + y if y % 2==0 else x, lis1)\n",
        "res"
      ]
    },
    {
      "cell_type": "markdown",
      "metadata": {
        "id": "UjMtOj6h2rrW"
      },
      "source": [
        "Function to copy files from one directory to another"
      ]
    },
    {
      "cell_type": "code",
      "execution_count": null,
      "metadata": {
        "id": "RSIm6Jz72rrW"
      },
      "outputs": [],
      "source": [
        "import os    # module for working with the operating system"
      ]
    },
    {
      "cell_type": "code",
      "execution_count": null,
      "metadata": {
        "id": "LUOPv5m62rrW",
        "outputId": "52bf1228-0b1b-4334-85c0-295fbc2894e6"
      },
      "outputs": [
        {
          "data": {
            "text/plain": [
              "[<DirEntry '.ipynb_checkpoints'>,\n",
              " <DirEntry 'files'>,\n",
              " <DirEntry 'P01_working_with_variables.ipynb'>,\n",
              " <DirEntry 'P02_working_with_strings.ipynb'>,\n",
              " <DirEntry 'P04_lists_tuples_set.ipynb'>,\n",
              " <DirEntry 'P06_dates.ipynb'>,\n",
              " <DirEntry 'P06_dictionaries_types_conv.ipynb'>,\n",
              " <DirEntry 'P07_condicional_and_iterative_structures.ipynb'>,\n",
              " <DirEntry 'P08_functions.ipynb'>]"
            ]
          },
          "execution_count": 37,
          "metadata": {},
          "output_type": "execute_result"
        }
      ],
      "source": [
        "list(os.scandir(os.getcwd()))"
      ]
    },
    {
      "cell_type": "code",
      "execution_count": null,
      "metadata": {
        "id": "MgFV3_Qg2rrW"
      },
      "outputs": [],
      "source": [
        "def get_csvs():\n",
        "    os.getcwd() # we get current directory\n",
        "    dir = os.getcwd() + '\\\\files'  # source directory of files\n",
        "    dir_des = 'dir_csv' # target directory for csvs\n",
        "    os.mkdir(dir_des)  # create the target directory\n",
        "    for fil in os.scandir(dir): # iterate over all files\n",
        "        fils = str(fil.name)\n",
        "        print(\"Files: \" + fils)\n",
        "        if fils.find('csv') > 0:\n",
        "            print(\"Copying ... \" + fils)\n",
        "            os.system('copy ' + dir + '\\\\' + fils + ' ' + os.getcwd() + '\\\\' + dir_des)"
      ]
    },
    {
      "cell_type": "code",
      "execution_count": null,
      "metadata": {
        "id": "9KYJGKKQ2rrW",
        "outputId": "ea1c3bae-9f36-42e9-c9f0-ff01cafdac39"
      },
      "outputs": [
        {
          "name": "stdout",
          "output_type": "stream",
          "text": [
            "Files: f_ventas1.csv\n",
            "Copying ... f_ventas1.csv\n",
            "Files: f_ventas1.txt\n",
            "Files: f_ventas1.xlsx\n",
            "Files: f_ventas_A.xlsx\n",
            "Files: f_ventas_B.xlsx\n",
            "Files: f_ventas_C.xlsx\n",
            "Files: HR-Employee-Attrition.csv\n",
            "Copying ... HR-Employee-Attrition.csv\n"
          ]
        }
      ],
      "source": [
        "get_csvs()"
      ]
    },
    {
      "cell_type": "markdown",
      "metadata": {
        "id": "M3f27hIz2rrX"
      },
      "source": [
        "Working with fixed or variable number of arguments: * args and ** args"
      ]
    },
    {
      "cell_type": "markdown",
      "metadata": {
        "id": "QIhdMs3p2rrX"
      },
      "source": [
        "Fixed number of arguments"
      ]
    },
    {
      "cell_type": "code",
      "execution_count": null,
      "metadata": {
        "id": "b9tmFRZv2rrX"
      },
      "outputs": [],
      "source": [
        "def suma1 (var1, var2, var3): # the function expects 3 values\n",
        "    return (var1 + var2 + var3)"
      ]
    },
    {
      "cell_type": "code",
      "execution_count": null,
      "metadata": {
        "id": "DaXnOxk42rrX",
        "outputId": "1f701976-33ff-4974-b30e-d85f0b90f2fd"
      },
      "outputs": [
        {
          "data": {
            "text/plain": [
              "7"
            ]
          },
          "execution_count": 46,
          "metadata": {},
          "output_type": "execute_result"
        }
      ],
      "source": [
        "#suma1(2,3,5)\n",
        "suma1(2,4)"
      ]
    },
    {
      "cell_type": "code",
      "execution_count": null,
      "metadata": {
        "id": "hsQs8Fd72rrX"
      },
      "outputs": [],
      "source": [
        "def suma2 (*vars): # does not expect a defined number of values\n",
        "    print(type(vars))\n",
        "    accum = 0\n",
        "    for elem in vars:\n",
        "        accum+=elem\n",
        "    return accum"
      ]
    },
    {
      "cell_type": "code",
      "execution_count": null,
      "metadata": {
        "id": "6T-c7Fxd2rrX",
        "outputId": "4ba071f4-e0b1-4120-e998-64f0c2ac7583"
      },
      "outputs": [
        {
          "name": "stdout",
          "output_type": "stream",
          "text": [
            "<class 'tuple'>\n"
          ]
        },
        {
          "data": {
            "text/plain": [
              "9"
            ]
          },
          "execution_count": 20,
          "metadata": {},
          "output_type": "execute_result"
        }
      ],
      "source": [
        "suma2(2,3,4)"
      ]
    },
    {
      "cell_type": "code",
      "execution_count": null,
      "metadata": {
        "id": "W2L--KgJ2rrX"
      },
      "outputs": [],
      "source": [
        "def info_course(**info): # expects a variable number of key-value elements\n",
        "    for k, v in info.items(): # loop iterates over 2 elements (key and value)\n",
        "        print(k,\"=\",v)"
      ]
    },
    {
      "cell_type": "code",
      "execution_count": null,
      "metadata": {
        "id": "3fNBlUyv2rrY",
        "outputId": "062c9e12-4977-4fbc-f2da-c7f6aaa276bc"
      },
      "outputs": [
        {
          "name": "stdout",
          "output_type": "stream",
          "text": [
            "course = Python\n",
            "duration = 20\n",
            "type = Programing\n"
          ]
        }
      ],
      "source": [
        "info_course(course=\"Python\", duration = 20, type =\"Programing\")"
      ]
    }
  ],
  "metadata": {
    "kernelspec": {
      "display_name": "Python 3 (ipykernel)",
      "language": "python",
      "name": "python3"
    },
    "language_info": {
      "codemirror_mode": {
        "name": "ipython",
        "version": 3
      },
      "file_extension": ".py",
      "mimetype": "text/x-python",
      "name": "python",
      "nbconvert_exporter": "python",
      "pygments_lexer": "ipython3",
      "version": "3.10.9"
    },
    "colab": {
      "provenance": [],
      "include_colab_link": true
    }
  },
  "nbformat": 4,
  "nbformat_minor": 0
}